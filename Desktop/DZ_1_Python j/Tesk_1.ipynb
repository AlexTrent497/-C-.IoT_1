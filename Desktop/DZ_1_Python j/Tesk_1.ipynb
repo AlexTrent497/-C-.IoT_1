{
 "cells": [
  {
   "cell_type": "markdown",
   "metadata": {},
   "source": [
    "*Домашнее задание*"
   ]
  },
  {
   "cell_type": "markdown",
   "metadata": {},
   "source": [
    "1 На складе лежат разные фрукты в разном количестве.\n",
    "Нужно написать функцию, которая на вход принимает любое количество названий фруктов и их количество, а возвращает общее количество фруктов на складе"
   ]
  },
  {
   "cell_type": "code",
   "execution_count": 16,
   "metadata": {},
   "outputs": [
    {
     "data": {
      "text/plain": [
       "3"
      ]
     },
     "execution_count": 16,
     "metadata": {},
     "output_type": "execute_result"
    }
   ],
   "source": [
    "total_fruits = {'banana': 5, 'mango': 7, 'apple': 8}    \n",
    "total = 0\n",
    " \n",
    "for item in total_fruits:\n",
    "       total += 1\n",
    "total"
   ]
  },
  {
   "cell_type": "markdown",
   "metadata": {},
   "source": [
    "2 Дан список с затратами на рекламу. Но в данных есть ошибки, некоторые затраты имеют отрицательную величину. Удалите такие значения из списка и посчитайте суммарные затраты\n",
    "[100, 125, -90, 345, 655, -1, 0, 200]\n",
    "Используйте list comprehensions"
   ]
  },
  {
   "cell_type": "code",
   "execution_count": 17,
   "metadata": {},
   "outputs": [
    {
     "name": "stdout",
     "output_type": "stream",
     "text": [
      "Cуммарные затраты = 10003339\n"
     ]
    }
   ],
   "source": [
    "list_costs=[100, 125, -90, 345, 655, -1, 0, 200, 10000000, -300, 589, 431, -987, -400, 894]\n",
    "\n",
    "def total_costs(costs):\n",
    "    result = sum([i for i in costs if i > 0])\n",
    "    return f\"Cуммарные затраты = {result}\"\n",
    "\n",
    "print(total_costs(list_costs))\n",
    "   "
   ]
  },
  {
   "cell_type": "markdown",
   "metadata": {},
   "source": [
    "3 Даны два списка.\n",
    "Дата покупки\n",
    "['2021-09-14', '2021-12-15', '2021-09-08', '2021-12-05', '2021-10-09', '2021-09-30', '2021-12-22', '2021-11-29', '2021-12-24', '2021-11-26', '2021-10-27', '2021-12-18', '2021-11-09', '2021-11-23', '2021-09-27', '2021-10-02', '2021-12-27', '2021-09-20', '2021-12-13', '2021-11-01', '2021-11-09', '2021-12-06', '2021-12-08', '2021-10-09', '2021-10-31', '2021-09-30', '2021-11-09', '2021-12-13', '2021-10-26', '2021-12-09']\n",
    "Суммы покупок по датам\n",
    "[1270, 8413, 9028, 3703, 5739, 4095, 295, 4944, 5723, 3701, 4471, 651, 7037, 4274, 6275, 4988, 6930, 2971, 6592, 2004, 2822, 519, 3406, 2732, 5015, 2008, 316, 6333, 5700, 2887]"
   ]
  },
  {
   "cell_type": "markdown",
   "metadata": {},
   "source": [
    "Задача 3.1 Найдите, какая выручка у компании в ноябре\n",
    " Используйте list comprehensions"
   ]
  },
  {
   "cell_type": "code",
   "execution_count": 18,
   "metadata": {},
   "outputs": [],
   "source": [
    "list1_date_of_purchase = ['2021-09-14', '2021-12-15', '2021-09-08', '2021-12-05', '2021-10-09', '2021-11-11',\n",
    "                          '2021-09-30', '2021-12-22', '2021-11-29', '2021-12-24', '2021-11-26', '2021-10-12',\n",
    "                          '2021-10-27', '2021-12-18', '2021-11-09', '2021-11-23', '2021-09-27', '2021-07-13',\n",
    "                          '2021-10-02', '2021-12-27', '2021-09-20', '2021-12-13', '2021-11-01', '2021-11-14',\n",
    "                          '2021-11-09', '2021-12-06', '2021-12-08', '2021-10-09', '2021-10-31', '2021-10-19',\n",
    "                          '2021-09-07', '2021-11-09', '2021-12-13', '2021-10-26', '2021-12-09', '2021-10-23' ]\n",
    "list2_summa_of_purchase = [1270, 8413, 9028, 3703, 5739, 222,\n",
    "                           4095, 295, 4944, 5723, 3701, 333,\n",
    "                           4471, 651, 7037, 7274, 6275, 444,\n",
    "                           4988, 6930, 2971, 6592, 2004, 555,\n",
    "                           2822, 519, 3406, 2732, 5015, 666,\n",
    "                           2008, 316, 6333, 5700, 2887, 777 ]"
   ]
  },
  {
   "cell_type": "code",
   "execution_count": 19,
   "metadata": {},
   "outputs": [
    {
     "name": "stdout",
     "output_type": "stream",
     "text": [
      "Выручка у компании за Ноябрь = 28875\n"
     ]
    }
   ],
   "source": [
    "from datetime import datetime\n",
    "\n",
    "def revenue_for_november(list1: list, list2: list, date_month: str) -> list:\n",
    "    result = sum([list2[i] for i in range(len(list1)) if date_month in str(datetime.strptime(list1[i], \"%Y-%m-%d\").month)])\n",
    "\n",
    "    return f\"Выручка у компании за Ноябрь = {result}\"\n",
    "\n",
    "print(revenue_for_november(list1_date_of_purchase, list2_summa_of_purchase, \"11\"))"
   ]
  },
  {
   "cell_type": "markdown",
   "metadata": {},
   "source": [
    "Зфдача 3.2 \n",
    " Найдите выручку компании в зависимости от месяца\n",
    " Для этого напишите функцию, которая на вход принимает список с датами и список с выручкой, а на выходе словарь, где ключи - это месяцы, \n",
    " а значения - это выручка.\n",
    " Используйте аннотирование типов."
   ]
  },
  {
   "cell_type": "code",
   "execution_count": 20,
   "metadata": {},
   "outputs": [
    {
     "name": "stdout",
     "output_type": "stream",
     "text": [
      "выручку компании в зависимости от месяца = {'9': 25647, '12': 45452, '10': 30421, '11': 28875, '7': 444}\n"
     ]
    }
   ],
   "source": [
    "def revenue_for_november(list1: list, list2: list) -> dict:   \n",
    "    list_result = {}\n",
    "    \n",
    "    for i in range(len(list1)):\n",
    "        str_month = str(datetime.strptime(list1[i], \"%Y-%m-%d\").month)\n",
    "        if str_month in list_result.keys():\n",
    "            list_result[str_month] += list2[i]\n",
    "        else:\n",
    "            list_result[str_month] = list2[i]\n",
    "    return f\"выручку компании в зависимости от месяца = {list_result}\"\n",
    "\n",
    "print(revenue_for_november(list1_date_of_purchase, list2_summa_of_purchase))"
   ]
  }
 ],
 "metadata": {
  "kernelspec": {
   "display_name": "Python 3",
   "language": "python",
   "name": "python3"
  },
  "language_info": {
   "codemirror_mode": {
    "name": "ipython",
    "version": 3
   },
   "file_extension": ".py",
   "mimetype": "text/x-python",
   "name": "python",
   "nbconvert_exporter": "python",
   "pygments_lexer": "ipython3",
   "version": "3.10.11"
  },
  "orig_nbformat": 4
 },
 "nbformat": 4,
 "nbformat_minor": 2
}
