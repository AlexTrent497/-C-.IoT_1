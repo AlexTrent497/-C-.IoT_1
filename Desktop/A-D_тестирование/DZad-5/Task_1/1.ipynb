{
 "cells": [
  {
   "cell_type": "markdown",
   "metadata": {},
   "source": [
    "Так как различие не существенно то можно выбрать любую либо тестировать другую гипотезу"
   ]
  }
 ],
 "metadata": {
  "language_info": {
   "name": "python"
  }
 },
 "nbformat": 4,
 "nbformat_minor": 2
}
